{
 "cells": [
  {
   "cell_type": "code",
   "execution_count": 5,
   "metadata": {},
   "outputs": [
    {
     "name": "stdout",
     "output_type": "stream",
     "text": [
      "9\n"
     ]
    }
   ],
   "source": [
    "def get_max(listItems):\n",
    "    max = 0;\n",
    "    for item in listItems:\n",
    "        if item > max:\n",
    "            max = item\n",
    "    return max\n",
    "\n",
    "theData = [3, 1, 4, 1, 9, 5]\n",
    "print(get_max(theData))"
   ]
  },
  {
   "cell_type": "code",
   "execution_count": 6,
   "metadata": {},
   "outputs": [
    {
     "name": "stdout",
     "output_type": "stream",
     "text": [
      "(11, [1, 2, 3, 4, 5, 6, 7, 8, 9, 12, 15])\n"
     ]
    }
   ],
   "source": [
    "def get_unique(listItems):\n",
    "    setUnique = set(listItems)\n",
    "    numUnique = len(setUnique)\n",
    "    listUnique = list(setUnique)\n",
    "    return numUnique, listUnique\n",
    "\n",
    "inputList = [1, 3, 7, 9, 3, 2, 4, 8, 6, 5, 12, 15]\n",
    "print(get_unique(inputList))"
   ]
  },
  {
   "cell_type": "code",
   "execution_count": 10,
   "metadata": {},
   "outputs": [
    {
     "name": "stdout",
     "output_type": "stream",
     "text": [
      "6\n",
      "3.8333333333333335\n",
      "7.472222222222221\n",
      "2.733536577809454\n"
     ]
    }
   ],
   "source": [
    "import math\n",
    "class DataHandler():\n",
    "    def __init__(self, inputList):\n",
    "        self.list = inputList\n",
    "        \n",
    "    def shape(self):\n",
    "        return len(self.list)\n",
    "    \n",
    "    def mean(self):\n",
    "        total = 0\n",
    "        for num in self.list:\n",
    "            total = total + num\n",
    "            \n",
    "        return total / (len(self.list))\n",
    "    \n",
    "    def variance(self):\n",
    "        sum = 0\n",
    "        avg = self.mean()\n",
    "        for num in self.list:\n",
    "            sum = sum + ((num - avg)** 2)\n",
    "        \n",
    "        return sum / (len(self.list))\n",
    "    \n",
    "    def std(self):\n",
    "        return math.sqrt(self.variance())\n",
    "    \n",
    "tester = DataHandler([3, 1, 4, 1, 5, 9])\n",
    "print(tester.shape())\n",
    "print(tester.mean())\n",
    "print(tester.variance())\n",
    "print(tester.std())\n",
    "            \n",
    "    \n",
    "        "
   ]
  },
  {
   "cell_type": "code",
   "execution_count": null,
   "metadata": {},
   "outputs": [],
   "source": []
  }
 ],
 "metadata": {
  "kernelspec": {
   "display_name": "Python 3",
   "language": "python",
   "name": "python3"
  },
  "language_info": {
   "codemirror_mode": {
    "name": "ipython",
    "version": 3
   },
   "file_extension": ".py",
   "mimetype": "text/x-python",
   "name": "python",
   "nbconvert_exporter": "python",
   "pygments_lexer": "ipython3",
   "version": "3.8.3"
  }
 },
 "nbformat": 4,
 "nbformat_minor": 4
}
